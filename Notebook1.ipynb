{
 "cells": [
  {
   "cell_type": "markdown",
   "metadata": {},
   "source": [
    "# *Entrega #1*\n",
    "## Simulación de Procesos Financieros | Oscar D. Jaramillo\n",
    "### Andrea Jiménez y Sophia Ortega\n",
    "#### Ingeniería Financiera ITESO\n",
    "##### Jueves, 29 de agosto del 2019\n",
    "\n",
    "\n",
    "\n"
   ]
  },
  {
   "cell_type": "markdown",
   "metadata": {},
   "source": [
    "# <font color = red> **Expectativas del Curso** </font> \n",
    "\n",
    "*\" Esperamos reafirmar y pulir los conocimientos ya aprendidos con anterioridad tanto matemáticos pero especialmente en programación y conectar finalmente con una aplicación en nuestra área de estudios y en un futuro en el campo de acción laboral.\"*\n",
    "\n",
    "\n",
    "\n",
    "<img style=\"float: center; margin: 30px 30px 30px 30px;\" src=\"https://postparaprogramadores.com/wp-content/uploads/2018/03/curso-de-programacion-gratis.png\" width=\"280\" height=\"100\" />"
   ]
  },
  {
   "cell_type": "markdown",
   "metadata": {},
   "source": [
    "## Resumen del artículo\n",
    "# <font color = gray> Python is becoming the world’s most popular coding language </font>\n",
    "\n",
    "\n",
    "\n",
    "\n",
    "<img style=\"float: center; margin: 15px 15px 15px 15px;\" src=\"https://upload.wikimedia.org/wikipedia/commons/thumb/c/c3/Python-logo-notext.svg/1200px-Python-logo-notext.svg.png\" width=\"180\" height=\"50\" />\n",
    "\n",
    "\n",
    "\n",
    "\n",
    "- In the past 12 months Americans have searched for Python on Google more often than for Kim Kardashian, a reality-TV star. The number of queries has trebled since 2010, while those for other major programming languages have been flat or declining.The language’s two main advantages are its simplicity and flexibility. Making it easy to learn, read and share. The Pythonistas, have uploaded 145,000 custom-built software packages to an online repository. These cover from game development to astronomy.\n",
    "\n",
    "\n",
    "<img style=\"float: center; margin: 15px 15px 15px 15px;\" src=\"https://uploads.toptal.io/blog/image/443/toptal-blog-image-1407508081138.png\" width=\"180\" height=\"50\" />\n",
    "\n",
    "\n",
    "\n",
    "\n",
    "\n",
    "- This versatility means that the Central Intelligence Agency has used it for hacking, Google for crawling webpages, Pixar for producing movies and Spotify for recommending songs. Some of the most popular packages harness “machine learning”, by crunching large quantities of data to pick out patterns that would otherwise be imperceptible.\n",
    "\n",
    "\n"
   ]
  },
  {
   "cell_type": "markdown",
   "metadata": {},
   "source": [
    "# Código LaTeX\n",
    "\n",
    "$$\n",
    "\\begin{array}{l}{\\text { 1. La fórmula el rectingulo se obtiene al interpolar a } f(x) \\text { por medio del polinomio }} \\\\ {\\text { constante } p_{0}(x)=f\\left(\\frac{a+b}{2}\\right) \\text { . }} \\\\ {\\qquad \\int_{a}^{b} f(x) d x \\approx(b-a) f\\left(\\frac{a+b}{2}\\right)=R(f)}\\end{array}\n",
    "$$\n",
    "\n",
    "$$\\begin{array}{l}{\\text { 2. La formula del trapecio se obtiene al interpolar a } f \\text { por medio de un polinomio lineal }} \\\\ {p_{1}(x)=\\alpha x+\\beta \\text { que satisfaga } f(a)=p_{1}(a), \\text { y } f(b)=p_{1}(b) . \\text { Determinar el polinomio }} \\\\ {\\text { lineal es equivalente a resolver un sistema de ecuaciones lineales para } \\alpha \\text { y } \\beta \\text { cuya }} \\\\ {\\text { solución es }} \\\\ {\\qquad \\alpha=\\frac{f(b)-f(a)}{b-a} \\quad \\beta=\\frac{f(b) a-f(a) b}{b-a}}\\end{array}$$\n",
    "\n",
    "$$\n",
    "\\begin{array}{l}{\\text { Al integrar } p_{1}(x) \\text { en el intervalo }[a, b] \\text { se obtiene la regla del trapecio con } h=b-a} \\\\ {\\qquad \\int_{a}^{b} f(x) d x \\approx \\int_{a}^{b} p_{1}(x) d x=\\frac{h}{2}(f(a)+f(b))=T(f)} \\\\ {\\text { El error está dado por }} \\\\ {\\qquad \\int_{a}^{b} f(x) d x-T(f)=-\\frac{h^{3}}{12}\\left(f^{\\prime \\prime}(\\eta)\\right), \\quad a<\\eta<b}\\end{array}\n",
    "$$\n",
    "\n",
    "\n",
    "\n",
    "$$\n",
    "\\begin{array}{l}{\\text { 3. Por tiltimo al integrar el polinomio cuadrático que interpola a } f \\text { en } x=a, x=\\frac{a+b}{2} \\text { , }} \\\\ {\\begin{aligned} y x=b \\text { se obtiene la regla de Simpson con } h=\\frac{b-a}{2} \\\\ & \\int_{a}^{b} f(x) d x \\approx \\int_{a}^{b} p_{2}(x) d x=\\frac{h}{3}(f(a)+4 f(a+h)+f(b))=S(f) \\\\ \\text { El error que se comete al usar Simpson es } \\\\ \\qquad \\int_{a}^{b} f(x) d x-S(f)=\\frac{h^{5}}{90}\\left(f^{(4)}(\\eta)\\right), & a<\\eta<b \\end{aligned}}\\end{array}\n",
    "$$"
   ]
  },
  {
   "cell_type": "markdown",
   "metadata": {},
   "source": [
    "# Serie de Fibonacci"
   ]
  },
  {
   "cell_type": "code",
   "execution_count": 8,
   "metadata": {},
   "outputs": [
    {
     "name": "stdout",
     "output_type": "stream",
     "text": [
      "0 , 1 , 1 , 2 , 3 , 5 , 8 , 13 , 21 , 34 , 55 , 89 , 144 , 233 , 377 , 610 , 987 , 1597 , 2584 , 4181 , 6765 , 10946 , 17711 , 28657 , 46368 , 75025 , 121393 , 196418 , 317811 , 514229 , 832040 , 1346269 , 2178309 , 3524578 , 5702887 , 9227465 , 14930352 , 24157817 , 39088169 , 63245986 , 102334155 , 165580141 , 267914296 , 433494437 , 701408733 , 1134903170 , 1836311903 , 2971215073 , 4807526976 , 7778742049 , 12586269025 , 20365011074 , 32951280099 , 53316291173 , 86267571272 , 139583862445 , 225851433717 , 365435296162 , 591286729879 , 956722026041 , 1548008755920 , 2504730781961 , 4052739537881 , 6557470319842 , 10610209857723 , 17167680177565 , 27777890035288 , 44945570212853 , 72723460248141 , 117669030460994 , 190392490709135 , 308061521170129 , 498454011879264 , 806515533049393 , 1304969544928657 , 2111485077978050 , 3416454622906707 , 5527939700884757 , 8944394323791464 , 14472334024676221 , 23416728348467685 , 37889062373143906 , 61305790721611591 , 99194853094755497 , 160500643816367088 , 259695496911122585 , 420196140727489673 , 679891637638612258 , 1100087778366101931 , 1779979416004714189 , 2880067194370816120 , 4660046610375530309 , 7540113804746346429 , 12200160415121876738 , 19740274219868223167 , 31940434634990099905 , 51680708854858323072 , 83621143489848422977 , 135301852344706746049 , 218922995834555169026 , "
     ]
    }
   ],
   "source": [
    "terms = 100\n",
    "n1 = 0\n",
    "n2 = 1\n",
    "count = 0\n",
    "while count < terms:\n",
    "    print(n1,end=' , ')\n",
    "    nth = n1 + n2\n",
    "    n1 = n2\n",
    "    n2 = nth\n",
    "    count += 1"
   ]
  },
  {
   "cell_type": "markdown",
   "metadata": {},
   "source": [
    "# Números primos"
   ]
  },
  {
   "cell_type": "code",
   "execution_count": 6,
   "metadata": {},
   "outputs": [
    {
     "name": "stdout",
     "output_type": "stream",
     "text": [
      "1\n",
      "3\n",
      "5\n",
      "7\n",
      "9\n",
      "11\n",
      "13\n",
      "15\n",
      "17\n",
      "19\n",
      "21\n",
      "23\n",
      "25\n",
      "27\n",
      "29\n",
      "31\n",
      "33\n",
      "35\n",
      "37\n",
      "39\n",
      "41\n",
      "43\n",
      "45\n",
      "47\n",
      "49\n",
      "51\n",
      "53\n",
      "55\n",
      "57\n",
      "59\n",
      "61\n",
      "63\n",
      "65\n",
      "67\n",
      "69\n",
      "71\n",
      "73\n",
      "75\n",
      "77\n",
      "79\n",
      "81\n",
      "83\n",
      "85\n",
      "87\n",
      "89\n",
      "91\n",
      "93\n",
      "95\n",
      "97\n",
      "99\n"
     ]
    }
   ],
   "source": [
    "li=1\n",
    "ls=100\n",
    "for i in range(li,ls+1):\n",
    "    if(i%2!=0):\n",
    "        print(i)"
   ]
  },
  {
   "cell_type": "code",
   "execution_count": null,
   "metadata": {},
   "outputs": [],
   "source": []
  }
 ],
 "metadata": {
  "kernelspec": {
   "display_name": "Python 3",
   "language": "python",
   "name": "python3"
  },
  "language_info": {
   "codemirror_mode": {
    "name": "ipython",
    "version": 3
   },
   "file_extension": ".py",
   "mimetype": "text/x-python",
   "name": "python",
   "nbconvert_exporter": "python",
   "pygments_lexer": "ipython3",
   "version": "3.7.1"
  }
 },
 "nbformat": 4,
 "nbformat_minor": 2
}
